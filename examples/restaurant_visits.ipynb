{
  "nbformat": 4,
  "nbformat_minor": 0,
  "metadata": {
    "colab": {
      "name": "PipelineDP demo",
      "provenance": [],
      "collapsed_sections": []
    },
    "kernelspec": {
      "name": "python3",
      "display_name": "Python 3"
    },
    "language_info": {
      "name": "python"
    }
  },
  "cells": [
    {
      "cell_type": "markdown",
      "metadata": {
        "id": "bW1gifIe0pUt"
      },
      "source": [
        "<table class=\"tfo-notebook-buttons\" align=\"left\">\n",
        "  <td>\n",
        "    <a target=\"_blank\" href=\"https://colab.research.google.com/github/OpenMined/PipelineDP/blob/main/examples/restaurant_visits.ipynb\"><img src=\"https://www.tensorflow.org/images/colab_logo_32px.png\" />Run in Google Colab</a>\n",
        "  </td>\n",
        "  <td>\n",
        "    <a target=\"_blank\" href=\"https://github.com/OpenMined/PipelineDP/blob/main/examples/restaurant_visits.ipynb\"><img src=\"https://www.tensorflow.org/images/GitHub-Mark-32px.png\" />View source on GitHub</a>\n",
        "  </td>\n",
        "</table>"
      ]
    },
    {
      "cell_type": "markdown",
      "metadata": {
        "id": "3Pa1EeIdJyZn"
      },
      "source": [
        "# About this codelab\n",
        "This codelab demonstrates the core functionality of PipelineDP. The codelab targets users who would like to apply an end-to-end solution to their dataset regardless of their level of knowledge of differential privacy (DP). We recommend all readers take a look at the [“Background”](https://colab.sandbox.google.com/github/OpenMined/PipelineDP/blob/main/examples/restaurant_visits.ipynb#scrollTo=Background) section which contains the key definitions. For users who have some experience with DP, we recommend starting with the “[Framework-specific API](https://colab.sandbox.google.com/github/OpenMined/PipelineDP/blob/main/examples/restaurant_visits.ipynb#scrollTo=Framework_specific_API_Beam)” section. It explains how to run the basic differentially private aggregations such as count and sum on Apache Beam and Spark. For the reader who would like to have more flexibility and try some “advanced” DP features, we recommend reading the [“Core API”](https://colab.sandbox.google.com/github/OpenMined/PipelineDP/blob/main/examples/restaurant_visits.ipynb#scrollTo=Core_API) section. It demonstrates how to design a generic pipeline that can be used with various execution engines. All readers should run the instructions in [“Install dependencies”](https://colab.sandbox.google.com/github/OpenMined/PipelineDP/blob/main/examples/restaurant_visits.ipynb#scrollTo=Install_dependencies_and_download_data) and [“Load and inspect the data”](https://colab.sandbox.google.com/github/OpenMined/PipelineDP/blob/main/examples/restaurant_visits.ipynb#scrollTo=Load_and_inspect_the_data) in order to prepare their environment.\n"
      ]
    },
    {
      "cell_type": "markdown",
      "metadata": {
        "id": "z-C0QEOxK_Ot"
      },
      "source": [
        "# Background"
      ]
    },
    {
      "cell_type": "markdown",
      "metadata": {
        "id": "4HiDN9bTLDQq"
      },
      "source": [
        "## Colab example\n",
        "The colab is based on the following scenario: imagine we have a collection of records that represent restaurant visits for 7 days. Each visit has a visitor ID, and each visitor may enter the restaurant multiple times a day and several days a week. We would like to calculate some DP statistics such as the number of visits per week day, the number of distinct visitors per week day, the total amount of money people spend at the restaurant per week day."
      ]
    },
    {
      "cell_type": "markdown",
      "metadata": {
        "id": "rqKBEKPxNHfg"
      },
      "source": [
        "## Differential privacy\n",
        "Differential privacy offers a tradeoff between the accuracy of aggregations over statistical databases (for example, mean) and the chance of learning something about individual records in the database. This tradeoff is an easily configured parameter; you can increase privacy by decreasing the accuracy of your statistics (or vice versa). Unlike other anonymization schemes (such as k-anonymity) that completely fail once too much data is released, differential privacy degrades slowly when more data is released.\n",
        "\n",
        "You can find a very high-level, non-technical introduction to differential privacy in [this blog post](https://desfontain.es/privacy/friendly-intro-to-differential-privacy.html), and a more detailed explanation of how it works in the book [\"The Algorithmic Foundations of Differential Privacy\"](https://www.cis.upenn.edu/~aaroth/Papers/privacybook.pdf)."
      ]
    },
    {
      "cell_type": "markdown",
      "metadata": {
        "id": "nVCHmSjfQhyY"
      },
      "source": [
        "## Key definitions\n",
        "**(Privacy) budget**: every operation leaks some information about individuals. The total privacy cost of a pipeline is the sum of the costs of its releases. You want this to be below a certain total cost. That's your budget. Typically, the greek letters 'epsilon' and 'delta' (ϵ and δ) are used to define the budget.\n",
        "\n",
        "**Partition**: a partition is a subset of the data corresponding to a given value of the aggregation criterion. In our example, the partitions are the seven days of the week. \n",
        "\n",
        "**Partition key**: this is the partition identifier. Since in our example the data are aggregated per day, the partition key is a day.\n",
        "\n",
        "**Privacy ID:** an ID of the unit of privacy that we are protecting. For example, if we protect the presence of the user in a dataset, the privacy ID is the user ID. In our colab, the privacy ID is a visitor ID."
      ]
    },
    {
      "cell_type": "markdown",
      "metadata": {
        "id": "RUQORwYmRHAu"
      },
      "source": [
        "## PipelineDP\n",
        "PipelineDP is a Python end-to-end framework for generating differentially private statistics. PipelineDP provides a high-level API for anonymizing data using Apache Beam It also has a core API that can be used to define a generic pipeline which can be then run on various engines. In the following section we demonstrate both APIs."
      ]
    },
    {
      "cell_type": "markdown",
      "metadata": {
        "id": "zxcPpZGuAPq8"
      },
      "source": [
        "# Install dependencies and download data\n"
      ]
    },
    {
      "cell_type": "code",
      "execution_count": 1,
      "metadata": {
        "id": "E8yzpKYNbHTF",
        "cellView": "form"
      },
      "outputs": [],
      "source": [
        "#@markdown Install dependencies and download data\n",
        "\n",
        "import os\n",
        "os.chdir('/content')\n",
        "!pip install pipeline-dp apache_beam\n",
        "# If you'd like to test the most recent version of PipelineDP, uncomment the\n",
        "# following lines and comment-out the previous line.\n",
        "# !git clone https://github.com/OpenMined/PipelineDP.git\n",        
        "# !pip install -r PipelineDP/requirements.dev.txt\n",
        "\n",
        "import sys\n",
        "sys.path.insert(0,'/content/PipelineDP')\n",
        "\n",
        "#Download restaurant dataset from github\n",
        "!wget https://raw.githubusercontent.com/google/differential-privacy/main/examples/go/data/week_data.csv\n",
        "\n",
        "from IPython.display import clear_output\n",
        "clear_output()\n",
        "\n",
        "import apache_beam as beam\n",
        "from apache_beam.runners.portability import fn_api_runner\n",
        "from apache_beam.runners.interactive import interactive_runner\n",
        "from apache_beam.runners.interactive.interactive_beam import *\n",
        "from dataclasses import dataclass\n",
        "import pipeline_dp\n",
        "\n",
        "import pandas as pd\n",
        "import numpy as np\n",
        "import matplotlib.pyplot as plt"
      ]
    },
    {
      "cell_type": "markdown",
      "metadata": {
        "id": "oi-D38dUApM1"
      },
      "source": [
        "# Load and inspect the data\n",
        "The dataset used in this Colab is a simulated dataset of visits to some restaurant during a 7 day period. The code below loads the dataset in a DataFrame and prints some of its records."
      ]
    },
    {
      "cell_type": "code",
      "execution_count": 2,
      "metadata": {
        "colab": {
          "base_uri": "https://localhost:8080/",
          "height": 206
        },
        "id": "Mimkjqt9h9gr",
        "outputId": "f4e5b5e9-f10e-4b6d-ac0b-c2c1c4d29c25",
        "cellView": "form"
      },
      "outputs": [
        {
          "output_type": "execute_result",
          "data": {
            "text/html": [
              "\n",
              "  <div id=\"df-3ea257ec-7a8b-452c-aeb5-c9f0ac92d267\">\n",
              "    <div class=\"colab-df-container\">\n",
              "      <div>\n",
              "<style scoped>\n",
              "    .dataframe tbody tr th:only-of-type {\n",
              "        vertical-align: middle;\n",
              "    }\n",
              "\n",
              "    .dataframe tbody tr th {\n",
              "        vertical-align: top;\n",
              "    }\n",
              "\n",
              "    .dataframe thead th {\n",
              "        text-align: right;\n",
              "    }\n",
              "</style>\n",
              "<table border=\"1\" class=\"dataframe\">\n",
              "  <thead>\n",
              "    <tr style=\"text-align: right;\">\n",
              "      <th></th>\n",
              "      <th>user_id</th>\n",
              "      <th>enter_time</th>\n",
              "      <th>spent_minutes</th>\n",
              "      <th>spent_money</th>\n",
              "      <th>day</th>\n",
              "    </tr>\n",
              "  </thead>\n",
              "  <tbody>\n",
              "    <tr>\n",
              "      <th>0</th>\n",
              "      <td>580</td>\n",
              "      <td>9:27AM</td>\n",
              "      <td>29</td>\n",
              "      <td>17</td>\n",
              "      <td>1</td>\n",
              "    </tr>\n",
              "    <tr>\n",
              "      <th>1</th>\n",
              "      <td>1215</td>\n",
              "      <td>9:16AM</td>\n",
              "      <td>45</td>\n",
              "      <td>18</td>\n",
              "      <td>1</td>\n",
              "    </tr>\n",
              "    <tr>\n",
              "      <th>2</th>\n",
              "      <td>448</td>\n",
              "      <td>11:55AM</td>\n",
              "      <td>12</td>\n",
              "      <td>16</td>\n",
              "      <td>1</td>\n",
              "    </tr>\n",
              "    <tr>\n",
              "      <th>3</th>\n",
              "      <td>125</td>\n",
              "      <td>10:47AM</td>\n",
              "      <td>27</td>\n",
              "      <td>20</td>\n",
              "      <td>1</td>\n",
              "    </tr>\n",
              "    <tr>\n",
              "      <th>4</th>\n",
              "      <td>484</td>\n",
              "      <td>11:08AM</td>\n",
              "      <td>35</td>\n",
              "      <td>13</td>\n",
              "      <td>1</td>\n",
              "    </tr>\n",
              "  </tbody>\n",
              "</table>\n",
              "</div>\n",
              "      <button class=\"colab-df-convert\" onclick=\"convertToInteractive('df-3ea257ec-7a8b-452c-aeb5-c9f0ac92d267')\"\n",
              "              title=\"Convert this dataframe to an interactive table.\"\n",
              "              style=\"display:none;\">\n",
              "        \n",
              "  <svg xmlns=\"http://www.w3.org/2000/svg\" height=\"24px\"viewBox=\"0 0 24 24\"\n",
              "       width=\"24px\">\n",
              "    <path d=\"M0 0h24v24H0V0z\" fill=\"none\"/>\n",
              "    <path d=\"M18.56 5.44l.94 2.06.94-2.06 2.06-.94-2.06-.94-.94-2.06-.94 2.06-2.06.94zm-11 1L8.5 8.5l.94-2.06 2.06-.94-2.06-.94L8.5 2.5l-.94 2.06-2.06.94zm10 10l.94 2.06.94-2.06 2.06-.94-2.06-.94-.94-2.06-.94 2.06-2.06.94z\"/><path d=\"M17.41 7.96l-1.37-1.37c-.4-.4-.92-.59-1.43-.59-.52 0-1.04.2-1.43.59L10.3 9.45l-7.72 7.72c-.78.78-.78 2.05 0 2.83L4 21.41c.39.39.9.59 1.41.59.51 0 1.02-.2 1.41-.59l7.78-7.78 2.81-2.81c.8-.78.8-2.07 0-2.86zM5.41 20L4 18.59l7.72-7.72 1.47 1.35L5.41 20z\"/>\n",
              "  </svg>\n",
              "      </button>\n",
              "      \n",
              "  <style>\n",
              "    .colab-df-container {\n",
              "      display:flex;\n",
              "      flex-wrap:wrap;\n",
              "      gap: 12px;\n",
              "    }\n",
              "\n",
              "    .colab-df-convert {\n",
              "      background-color: #E8F0FE;\n",
              "      border: none;\n",
              "      border-radius: 50%;\n",
              "      cursor: pointer;\n",
              "      display: none;\n",
              "      fill: #1967D2;\n",
              "      height: 32px;\n",
              "      padding: 0 0 0 0;\n",
              "      width: 32px;\n",
              "    }\n",
              "\n",
              "    .colab-df-convert:hover {\n",
              "      background-color: #E2EBFA;\n",
              "      box-shadow: 0px 1px 2px rgba(60, 64, 67, 0.3), 0px 1px 3px 1px rgba(60, 64, 67, 0.15);\n",
              "      fill: #174EA6;\n",
              "    }\n",
              "\n",
              "    [theme=dark] .colab-df-convert {\n",
              "      background-color: #3B4455;\n",
              "      fill: #D2E3FC;\n",
              "    }\n",
              "\n",
              "    [theme=dark] .colab-df-convert:hover {\n",
              "      background-color: #434B5C;\n",
              "      box-shadow: 0px 1px 3px 1px rgba(0, 0, 0, 0.15);\n",
              "      filter: drop-shadow(0px 1px 2px rgba(0, 0, 0, 0.3));\n",
              "      fill: #FFFFFF;\n",
              "    }\n",
              "  </style>\n",
              "\n",
              "      <script>\n",
              "        const buttonEl =\n",
              "          document.querySelector('#df-3ea257ec-7a8b-452c-aeb5-c9f0ac92d267 button.colab-df-convert');\n",
              "        buttonEl.style.display =\n",
              "          google.colab.kernel.accessAllowed ? 'block' : 'none';\n",
              "\n",
              "        async function convertToInteractive(key) {\n",
              "          const element = document.querySelector('#df-3ea257ec-7a8b-452c-aeb5-c9f0ac92d267');\n",
              "          const dataTable =\n",
              "            await google.colab.kernel.invokeFunction('convertToInteractive',\n",
              "                                                     [key], {});\n",
              "          if (!dataTable) return;\n",
              "\n",
              "          const docLinkHtml = 'Like what you see? Visit the ' +\n",
              "            '<a target=\"_blank\" href=https://colab.research.google.com/notebooks/data_table.ipynb>data table notebook</a>'\n",
              "            + ' to learn more about interactive tables.';\n",
              "          element.innerHTML = '';\n",
              "          dataTable['output_type'] = 'display_data';\n",
              "          await google.colab.output.renderOutput(dataTable, element);\n",
              "          const docLink = document.createElement('div');\n",
              "          docLink.innerHTML = docLinkHtml;\n",
              "          element.appendChild(docLink);\n",
              "        }\n",
              "      </script>\n",
              "    </div>\n",
              "  </div>\n",
              "  "
            ],
            "text/plain": [
              "   user_id enter_time  spent_minutes  spent_money  day\n",
              "0      580     9:27AM             29           17    1\n",
              "1     1215     9:16AM             45           18    1\n",
              "2      448    11:55AM             12           16    1\n",
              "3      125    10:47AM             27           20    1\n",
              "4      484    11:08AM             35           13    1"
            ]
          },
          "metadata": {},
          "execution_count": 2
        }
      ],
      "source": [
        "#@markdown Load and inspect the data\n",
        "df = pd.read_csv('week_data.csv')\n",
        "df.rename(inplace=True, columns={'VisitorId' : 'user_id', 'Time entered' : 'enter_time', 'Time spent (minutes)' : 'spent_minutes', 'Money spent (euros)' : 'spent_money', 'Day' : 'day'})\n",
        "rows = [index_row[1] for index_row in df.iterrows()]\n",
        "df.head()"
      ]
    },
    {
      "cell_type": "markdown",
      "metadata": {
        "id": "e2SOjo8qiNnw"
      },
      "source": [
        "The goal of this Colab is to demonstrate how to compute the number of visits and amount of money spent for each day in a DP manner.\n",
        "\n",
        "The plots below demonstrate the non-private result."
      ]
    },
    {
      "cell_type": "code",
      "source": [
        "#@title Non-private statistics\n",
        "non_dp_count = [0] * 7\n",
        "non_dp_sum = [0] * 7\n",
        "days = range(1, 7)\n",
        "for row in rows:\n",
        "  index = row['day'] - 1\n",
        "  non_dp_count[index] += 1\n",
        "  non_dp_sum[index] += row['spent_money']\n",
        "\n",
        "days = [\"Mon\", \"Tue\", \"Wed\", \"Thu\", \"Fri\", \"Sat\", \"Sun\"]\n",
        "plt.bar(days, non_dp_count)\n",
        "plt.suptitle('Count of visits')\n",
        "plt.show()\n",
        "\n",
        "plt.bar(days, non_dp_sum)\n",
        "plt.suptitle('Total spending')\n",
        "plt.show()\n"
      ],
      "metadata": {
        "colab": {
          "base_uri": "https://localhost:8080/",
          "height": 571
        },
        "cellView": "form",
        "id": "qR1dBaCiqNAa",
        "outputId": "aa634f54-bb87-4b22-9fff-d7a52132843e"
      },
      "execution_count": 3,
      "outputs": [
        {
          "output_type": "display_data",
          "data": {
            "image/png": "[encoded data removed]",
            "text/plain": [
              "<Figure size 432x288 with 1 Axes>"
            ]
          },
          "metadata": {
            "needs_background": "light"
          }
        },
        {
          "output_type": "display_data",
          "data": {
            "image/png": "[encoded data removed]",
            "text/plain": [
              "<Figure size 432x288 with 1 Axes>"
            ]
          },
          "metadata": {
            "needs_background": "light"
          }
        }
      ]
    },
    {
      "cell_type": "markdown",
      "metadata": {
        "id": "SMUQhchLwQ0N"
      },
      "source": [
        "# Core API\n",
        "Before executing instructions in this section, please make sure you’ve run [“install dependencies”](https://colab.sandbox.google.com/github/OpenMined/PipelineDP/blob/main/examples/restaurant_visits.ipynb#scrollTo=Install_dependencies_and_download_data) and [“Load and inspect the data”](https://colab.sandbox.google.com/github/OpenMined/PipelineDP/blob/main/examples/restaurant_visits.ipynb#scrollTo=Load_and_inspect_the_data) to configure your workspace.\n",
        " \n",
        "PipelineDP allows users to define a generic anonymization pipeline that can be run on different pipeline frameworks. In this section we demonstrate how to define a pipeline and run it locally. The pipeline definition includes the following steps: \n",
        "1. Select the framework on which the pipeline will be run (e.g., local or Beam).\n",
        "2. Configure the total amount of privacy budget and the budget allocation strategy.\n",
        "3. Instantiate DPEngine which executes the DP operations.\n",
        "4. Define the privacy ID, partition key and value extractors.\n",
        "5. Configure aggregations.\n",
        "6. Run the pipeline!\n",
        "\n",
        "The following section explains how to port a pipeline to various frameworks. \n"
      ]
    },
    {
      "cell_type": "markdown",
      "metadata": {
        "id": "FR93zlVCR4Iw"
      },
      "source": [
        "## Select the framework (PipelineBackend)\n",
        "`PipelineBackend` is an object which encapsulates the pipeline framework. In this example we use `LocalBackend` in order to run the pipeline locally. "
      ]
    },
    {
      "cell_type": "code",
      "execution_count": 30,
      "metadata": {
        "id": "eN9fu0NkSA6u"
      },
      "outputs": [],
      "source": [
        "backend = pipeline_dp.LocalBackend()"
      ]
    },
    {
      "cell_type": "markdown",
      "metadata": {
        "id": "70WpcskpTtfm"
      },
      "source": [
        "## Configure privacy budget (BudgetAccountant)\n",
        "`BudgetAccountant` defines the total amount of privacy budget that will be spent on DP aggregations within the program. It automatically splits the budget among all DP aggregations. Depending on the type of `BudgetAccountant` different budget allocation strategies can be applied. In this codelab we use `NaiveBudgetAccountant`, which implements basic composition."
      ]
    },
    {
      "cell_type": "code",
      "execution_count": 41,
      "metadata": {
        "id": "90GHbs02TyJX"
      },
      "outputs": [],
      "source": [
        "budget_accountant = pipeline_dp.NaiveBudgetAccountant(total_epsilon=1, total_delta=1e-6)"
      ]
    },
    {
      "cell_type": "markdown",
      "metadata": {
        "id": "2p64NLmQT4zA"
      },
      "source": [
        "## DPEngine instantiation\n",
        "`DPEngine` performs DP operations. It’s instantiated by the code below."
      ]
    },
    {
      "cell_type": "code",
      "execution_count": 42,
      "metadata": {
        "id": "m35wpYE0T9KY"
      },
      "outputs": [],
      "source": [
        "dp_engine = pipeline_dp.DPEngine(budget_accountant, backend)"
      ]
    },
    {
      "cell_type": "markdown",
      "metadata": {
        "id": "mTisC2lZUBx_"
      },
      "source": [
        "## Configure data extractors\n",
        "Now we need to tell PipelineDP how to extract the privacy ID, the partition key and the value to be aggregated from the input data. For this, we configure `DataExtractors` as below. The extractor functions will be applied to each row of the input data."
      ]
    },
    {
      "cell_type": "code",
      "execution_count": 33,
      "metadata": {
        "id": "qI8GPLx7UGNt"
      },
      "outputs": [],
      "source": [
        "data_extractors = pipeline_dp.DataExtractors(\n",
        "   partition_extractor=lambda row: row.day,\n",
        "   privacy_id_extractor=lambda row: row.user_id,\n",
        "   value_extractor=lambda row: row.spent_money)"
      ]
    },
    {
      "cell_type": "markdown",
      "metadata": {
        "id": "BZVM3RO6UM4B"
      },
      "source": [
        "## Configure DP aggregations\n",
        "In this section we will demonstrate how to configure the DP aggregations that will be run on the dataset. For this, we need to define an `AggregationParams` object with the following properties:\n",
        "* `noise_kind` defines the distribution of the noise that is added to make the result differentially private.\n",
        "* `methods` is a collection of aggregation methods that will be executed on the dataset. In our example we count visits and sum-up visitor spending per day and hence we use `COUNT` and `SUM` aggregations.\n",
        "* `max_partitions_contributed` specifies the upper bound on the number of partitions to which one privacy ID can contribute. All contributions in excess of the limit will be discarded. The contributions to be discarded are chosen randomly.\n",
        "* `max_contributions_per_partition` is the maximum number of times a privacy ID can contribute to a partition. For instance, if in our example it’s set to 2, that means that for each visitor we will count up to 2 visits and corresponding spendings per day.\n",
        "* `min_value` and `max_value` are the lower and upper bound on the privacy ID contributions. Values less than min_value are “clamped” to the min_value, and values greater than the max_value bound are clamped to the max_value. This is necessary in order to limit the sensitivity.\n",
        "* `public_partitions` is a collection of the partition keys that will appear in the result. In our example we’d like to see the statistics for each week day and hence pass `range(1, 8)` as public partitions. If we wanted to compute the result for the week-end only, we would pass `range(6, 8)`. If `public_partitions` is not specified, the pipeline will select partitions to release in a DP manner."
      ]
    },
    {
      "cell_type": "code",
      "execution_count": 34,
      "metadata": {
        "id": "vgNanIGLvR47"
      },
      "outputs": [],
      "source": [
        "params = pipeline_dp.AggregateParams(\n",
        "   noise_kind=pipeline_dp.NoiseKind.LAPLACE,\n",
        "   metrics=[pipeline_dp.Metrics.COUNT, pipeline_dp.Metrics.SUM],\n",
        "   max_partitions_contributed=3,\n",
        "   max_contributions_per_partition=2,\n",
        "   min_value=0,\n",
        "   max_value=60,\n",
        "   public_partitions=list(range(1, 8)))"
      ]
    },
    {
      "cell_type": "markdown",
      "metadata": {
        "id": "AmhwDiYIwwne"
      },
      "source": [
        "## Run the pipeline\n",
        "Now, that all the parameters have been defined, call `aggregate` on the `DPEngine` instance. This is a lazy operation, it builds the computational graph but doesn't trigger any data processing. Next, we must call `budget_accountant.compute_budgets()`so that it allocates a privacy budget to the aggregations. Finally, we can trigger the pipeline computation and obtain the result.\n",
        "\n",
        "Due to the stateful nature of the `BudgetAccountant`, the code below can be executed only once. If you'd like to recompute the DP result, you'll need to create new `BudgetAccountant` and `DPEngine` instances. This reminds us that each time we run the pipeline, we consume privacy budget."
      ]
    },
    {
      "cell_type": "code",
      "execution_count": 43,
      "metadata": {
        "id": "RFXiHdE0wuhI"
      },
      "outputs": [],
      "source": [
        "# Build computational graph for aggregation\n",
        "dp_result = dp_engine.aggregate(rows, params, data_extractors)\n",
        "# Compute budget per each DP operation. \n",
        "budget_accountant.compute_budgets()\n",
        "# Run computation.\n",
        "dp_result = list(dp_result)"
      ]
    },
    {
      "cell_type": "code",
      "source": [
        "#@markdown ##Inspect the result\n",
        "#@markdown Below you can see the DP and non-DP results.\n",
        "\n",
        "dp_sum = [0] * 7 \n",
        "dp_count = [0] * 7 \n",
        "for count_sum_per_day in dp_result:\n",
        "  index =  count_sum_per_day[0] - 1\n",
        "  dp_count[index] = count_sum_per_day[1][0]\n",
        "  dp_sum[index] = count_sum_per_day[1][1]\n",
        "\n",
        "days = [\"Mon\", \"Tue\", \"Wed\", \"Thu\", \"Fri\", \"Sat\", \"Sun\"]\n",
        "x = np.arange(len(days))\n",
        "\n",
        "width = 0.35\n",
        "fig, ax = plt.subplots()\n",
        "rects1 = ax.bar(x - width/2, non_dp_count, width, label='non-DP')\n",
        "rects2 = ax.bar(x + width/2, dp_count, width, label='DP')\n",
        "ax.set_ylabel('Visit count')\n",
        "ax.set_title('Count visits per day')\n",
        "ax.set_xticks(x)\n",
        "ax.set_xticklabels(days)\n",
        "ax.legend()\n",
        "fig.tight_layout()\n",
        "plt.show()\n",
        "\n",
        "fig, ax = plt.subplots()\n",
        "rects1 = ax.bar(x - width/2, non_dp_sum, width, label='non-DP')\n",
        "rects2 = ax.bar(x + width/2, dp_sum, width, label='DP')\n",
        "ax.set_ylabel('Sum spendings')\n",
        "ax.set_title('Money spent per day')\n",
        "ax.set_xticks(x)\n",
        "ax.set_xticklabels(days)\n",
        "ax.legend()\n",
        "fig.tight_layout()\n",
        "plt.show()\n"
      ],
      "metadata": {
        "colab": {
          "base_uri": "https://localhost:8080/",
          "height": 577
        },
        "cellView": "form",
        "id": "sTkYZ0wSbo3h",
        "outputId": "d71911f1-9b6e-4e30-9ebd-3b6eebcba99d"
      },
      "execution_count": 37,
      "outputs": [
        {
          "output_type": "display_data",
          "data": {
            "image/png": "[encoded data removed]",
            "text/plain": [
              "<Figure size 432x288 with 1 Axes>"
            ]
          },
          "metadata": {
            "needs_background": "light"
          }
        },
        {
          "output_type": "display_data",
          "data": {
            "image/png": "[encoded data removed]",
            "text/plain": [
              "<Figure size 432x288 with 1 Axes>"
            ]
          },
          "metadata": {
            "needs_background": "light"
          }
        }
      ]
    },
    {
      "cell_type": "markdown",
      "metadata": {
        "id": "Y49iNgC2zBuP"
      },
      "source": [
        "The result includes 7 partitions: 1 partition per day, and 2 values associated with each partition: the count of visits and total spending."
      ]
    },
    {
      "cell_type": "markdown",
      "metadata": {
        "id": "F5i1MzH3zKQj"
      },
      "source": [
        "## Partition selection\n",
        "In our example we used “public partitions”. This means, we explicitly defined the partition keys that appear in the result. It’s possible in this case because the week days are publicly known information. Defining public partitions isn’t always possible. If partition keys are based on user data rather than being public information, they are private information and need to be calculated using DP. If you do not specify public_partitions, PipelineDP automatically calculates partition keys with DP. As a consequence, the DP result will include only partitions that have sufficiently many contributing privacy IDs to ensure that a single privacy ID cannot impact the structure of the returned result. You can learn more about private partition selection in [this blog post](https://desfontain.es/privacy/almost-differential-privacy.html).\n",
        "\n",
        "## Public partitions\n",
        "Public partitions have a couple of caveats. First, you really need to make sure that the provided partitions are based on public knowledge or derived using differential privacy. Second, public partitions with no contributions from users will appear in the DP statistics with noisy values. This ensures that an attacker cannot know which partitions users contributed to by looking at the structure of the results. This can be detrimental for utility, as empty partitions will be all noise and no signal."
      ]
    },
    {
      "cell_type": "markdown",
      "metadata": {
        "id": "tLweSyqAzoH-"
      },
      "source": [
        "# Porting your pipeline on different frameworks\n",
        "\n",
        "It’s easy to port the pipeline that we’ve defined in the \"Core API\" section to a different framework such as Beam. To do this, we need to copy the input data into a collection accepted by Beam (`PCollection`) and use `BeamBackend` instead of `LocalBackend`. Similarly, the pipeline could be run on Spark with equivalent changes.\n",
        "To demonstrate using Beam below, we first move all framework-independent logic in a run_pipeline function and then call it with the framework-specific parameters."
      ]
    },
    {
      "cell_type": "code",
      "execution_count": 11,
      "metadata": {
        "colab": {
          "base_uri": "https://localhost:8080/",
          "height": 228
        },
        "id": "gDqozhGw0KLD",
        "outputId": "42d3a0bf-6ba6-410c-a1f6-2ef2d98941e3"
      },
      "outputs": [
        {
          "output_type": "display_data",
          "data": {
            "application/javascript": [
              "\n",
              "        if (typeof window.interactive_beam_jquery == 'undefined') {\n",
              "          var jqueryScript = document.createElement('script');\n",
              "          jqueryScript.src = 'https://code.jquery.com/jquery-3.4.1.slim.min.js';\n",
              "          jqueryScript.type = 'text/javascript';\n",
              "          jqueryScript.onload = function() {\n",
              "            var datatableScript = document.createElement('script');\n",
              "            datatableScript.src = 'https://cdn.datatables.net/1.10.20/js/jquery.dataTables.min.js';\n",
              "            datatableScript.type = 'text/javascript';\n",
              "            datatableScript.onload = function() {\n",
              "              window.interactive_beam_jquery = jQuery.noConflict(true);\n",
              "              window.interactive_beam_jquery(document).ready(function($){\n",
              "                \n",
              "              });\n",
              "            }\n",
              "            document.head.appendChild(datatableScript);\n",
              "          };\n",
              "          document.head.appendChild(jqueryScript);\n",
              "        } else {\n",
              "          window.interactive_beam_jquery(document).ready(function($){\n",
              "            \n",
              "          });\n",
              "        }"
            ]
          },
          "metadata": {}
        },
        {
          "output_type": "stream",
          "name": "stdout",
          "text": [
            "(1, [322.10610046214424, 9195.14275841415])\n",
            "(7, [481.1850680805801, 18026.400029487908])\n",
            "(3, [405.3920060338278, 12112.681617956609])\n",
            "(5, [485.00121798118926, 21584.445443578064])\n",
            "(2, [379.9984859788965, 8433.152831096202])\n",
            "(6, [568.6533543976257, 17409.165902819484])\n",
            "(4, [436.3969806227251, 10253.25948811695])\n"
          ]
        }
      ],
      "source": [
        "# Framework independent function\n",
        "def run_pipeline(data, ops):\n",
        "  budget_accountant = pipeline_dp.NaiveBudgetAccountant(total_epsilon=1, total_delta=1e-7)\n",
        "\n",
        "  dp_engine = pipeline_dp.DPEngine(budget_accountant, ops)\n",
        "\n",
        "  params = pipeline_dp.AggregateParams(noise_kind = pipeline_dp.NoiseKind.LAPLACE,\n",
        "                                      metrics=[pipeline_dp.Metrics.COUNT, pipeline_dp.Metrics.SUM],\n",
        "                                      max_partitions_contributed=7,\n",
        "                                      max_contributions_per_partition=2,\n",
        "                                      min_value=0,\n",
        "                                      max_value=100,\n",
        "                                      public_partitions=list(range(1, 8)))\n",
        "\n",
        "  data_extractors = pipeline_dp.DataExtractors(privacy_id_extractor = lambda row: row.user_id,\n",
        "                                              partition_extractor = lambda row: row.day,\n",
        "                                              value_extractor = lambda row: row.spent_money)\n",
        "\n",
        "  dp_result = dp_engine.aggregate(data, params, data_extractors)\n",
        "\n",
        "  budget_accountant.compute_budgets()\n",
        "\n",
        "  return dp_result\n",
        "\n",
        "# Beam demo\n",
        "runner = fn_api_runner.FnApiRunner()  # local runner\n",
        "\n",
        "with beam.Pipeline(runner=runner) as pipeline:\n",
        "    beam_data = pipeline | beam.Create(rows)\n",
        "    backend = pipeline_dp.BeamBackend()\n",
        "    dp_result = run_pipeline(beam_data, backend)   \n",
        "    dp_result | beam.Map(print)"
      ]
    },
    {
      "cell_type": "markdown",
      "metadata": {
        "id": "5-OimxHL0fU8"
      },
      "source": [
        "# Framework-specific API: Beam\n",
        "Before executing instructions in this section, please make sure you’ve run [“install dependencies”](https://colab.sandbox.google.com/github/OpenMined/PipelineDP/blob/main/examples/restaurant_visits.ipynb#scrollTo=Install_dependencies_and_download_data) and [“Load and inspect the data”](https://colab.sandbox.google.com/github/OpenMined/PipelineDP/blob/main/examples/restaurant_visits.ipynb#scrollTo=Load_and_inspect_the_data) to configure your workspace.\n"
      ]
    },
    {
      "cell_type": "markdown",
      "metadata": {
        "id": "YwvRNX61313g"
      },
      "source": [
        "## Load Beam dependencies\n",
        "First, we import Beam dependencies and load the runner:\n"
      ]
    },
    {
      "cell_type": "code",
      "execution_count": 44,
      "metadata": {
        "colab": {
          "base_uri": "https://localhost:8080/"
        },
        "id": "kNo_QXuV4QSf",
        "outputId": "2f407463-b936-4f4b-f7e3-118b4b74f008"
      },
      "outputs": [
        {
          "output_type": "stream",
          "name": "stderr",
          "text": [
            "WARNING:root:Make sure that locally built Python SDK docker image has Python 3.7 interpreter.\n"
          ]
        }
      ],
      "source": [
        "#@markdown Load Beam dependencies\n",
        "\n",
        "import pipeline_dp.private_beam as pbeam\n",
        "\n",
        "runner = fn_api_runner.FnApiRunner()"
      ]
    },
    {
      "cell_type": "markdown",
      "metadata": {
        "id": "Sw6lHkOp4-BH"
      },
      "source": [
        "## Pipeline overview\n",
        "Then, we configure and run the pipeline as presented below. You can simply run the code below and observe the result. \n"
      ]
    },
    {
      "cell_type": "code",
      "execution_count": 45,
      "metadata": {
        "colab": {
          "base_uri": "https://localhost:8080/"
        },
        "id": "QrzAcuM049ya",
        "outputId": "0f38f0fa-b0ef-4820-e2ce-47bcd83009cb"
      },
      "outputs": [
        {
          "output_type": "stream",
          "name": "stdout",
          "text": [
            "(5, 7458.091159876506)\n",
            "(3, 10381.319975144035)\n",
            "(7, 20996.5429591567)\n",
            "(1, 7316.615952457176)\n",
            "(2, 20965.896481984564)\n",
            "(6, 15890.38387970232)\n",
            "(4, 8689.597153124425)\n"
          ]
        }
      ],
      "source": [
        "with beam.Pipeline(runner=runner) as pipeline:\n",
        "    budget_accountant = pipeline_dp.NaiveBudgetAccountant(\n",
        "                total_epsilon=1, total_delta=1e-8)\n",
        "\n",
        "    beam_data = pipeline | beam.Create(rows)\n",
        "    # Creating PrivatePCollection\n",
        "    pcol = beam_data | pbeam.MakePrivate(budget_accountant=budget_accountant, privacy_id_extractor = lambda row: row.user_id)\n",
        "\n",
        "    # Createa params for sum\n",
        "    sum_params = pipeline_dp.aggregate_params.SumParams(\n",
        "                noise_kind=pipeline_dp.NoiseKind.GAUSSIAN,\n",
        "                max_partitions_contributed=7,\n",
        "                max_contributions_per_partition=2,\n",
        "                min_value=1,\n",
        "                max_value=100,\n",
        "                budget_weight=1,\n",
        "                public_partitions=None,\n",
        "                partition_extractor=lambda row: row.day,\n",
        "                value_extractor=lambda row: row.spent_money) \n",
        "    dp_result = pcol | pbeam.Sum(sum_params) \n",
        "\n",
        "    budget_accountant.compute_budgets()\n",
        "\n",
        "    dp_result | beam.Map(print)"
      ]
    },
    {
      "cell_type": "markdown",
      "source": [
        "In the next sections we detail each step of the pipeline above."
      ],
      "metadata": {
        "id": "7j4dZrX-3C1d"
      }
    },
    {
      "cell_type": "markdown",
      "metadata": {
        "id": "m1f4Uff05PLt"
      },
      "source": [
        "## Configure privacy budget (BudgetAccountant)\n",
        "`BudgetAccountant` defines the total amount of privacy budget that will be spent on DP aggregations within the program and automatically splits it among all DP aggregations. Different `BudgetAccountant` implementations will allocate budget in different ways. In this codelab we use NaiveBudgetAccountant, which implements basic composition. The budget accountant is created in the code-snippet below.\n",
        "```\n",
        "budget_accountant = pipeline_dp.NaiveBudgetAccountant(total_epsilon=1, total_delta=1e-8)\n",
        "```\n",
        "\n",
        "## Create a PrivatePCollection\n",
        "`PrivatePCollection` is a wrapper for the input data on which the DP operations can be run. The code-snippet below wraps the input data in a Beam pipeline and then turns it into a `PrivatePCollection` object. As a part of a `PrivatePCollection` definition, we tell PipelineDP from which budget accountant the budget needs to be charged, and how to extract a privacy ID (e.g., user ID) from an input data row.\n",
        "```\n",
        "beam_data = pipeline | beam.Create(rows)\n",
        "# Creating PrivatePCollection\n",
        "pcol = beam_data | pbeam.MakePrivate(budget_accountant=budget_accountant, privacy_id_extractor = lambda row: row.user_id)\n",
        "```\n",
        "\n",
        "## Compute DP sum\n",
        "Before computing DP sum, we need to configure all necessary parameters. More precisely, we need to define the following:\n",
        "* `noise_kind` defines the distribution of the noise that is added to make the result differentially private.\n",
        "* `max_partitions_contributed` specifies the upper bound on the number of partitions that can be contributed by a privacy ID. All excess contributions will be discarded. The choice of which contributions will be discarded is random.\n",
        "* `max_contributions_per_partition` is the maximum number of times a privacy ID can contribute to a partition. For instance, if in our example it’s set to 2 which means that for each visitor we will take into account up to 2 visits and corresponding spending per day.\n",
        "* `min_value` and `max_value` are the lower and upper bound on the privacy ID contributions. Values less than the lower bound are “clamped” to `min_value`, and values greater than the higher bound are clamped to `max_value`. This is necessary in order to limit the sensitivity.\n",
        "* `budget_weight` is the relative weight of this operation (sum in our example) in the budget allocation. Recall that we defined the total amount of budget in a `BudgetAccountant`. The budget is split among all operations run on the corresponding PrivatePCollection. The way the budget is split can be controlled through budget_weight. The higher the relative weight is, the more budget is allocated to the operation, and hence the more precise the result is.\n",
        "* `public_partitions` is a collection of all the partition keys that will appear in the result. In our example we’d like to see the statistics for each week day and hence pass `range[1, 8)` as public partitions. If we wanted to compute the result for the week-end only, we would pass `range[6, 8)`. If `public_partitions` is not specified, the pipeline will select partitions to release in a DP manner.\n",
        "* `partition_extractor` defines how to extract the partition key from an element of the input data. In our example we compute daily statistics and hence a partition key is a day.\n",
        "* `value_extractor` defines how to extract the value to be aggregated from an element of the input data. In our example we compute sum of visitor spending per day, and hence the value to be aggregated is the amount of money spent at a visit.\n",
        "\n",
        "Next, we call DP sum.\n",
        "```\n",
        "sum_params = pipeline_dp.aggregate_params.SumParams(\n",
        "             noise_kind=pipeline_dp.NoiseKind.GAUSSIAN,\n",
        "             max_partitions_contributed=7,\n",
        "             max_contributions_per_partition=2,\n",
        "             low=1,\n",
        "             high=100,\n",
        "             budget_weight=1,\n",
        "             public_partitions=list(range(1, 8)),\n",
        "             partition_extractor=lambda row: row.day,\n",
        "             value_extractor=lambda row: row.spent_money)\n",
        "dp_result = pcol | pbeam.Sum(sum_params)\n",
        "```\n",
        "\n",
        "## Run the pipeline\n",
        "Before running the pipeline, we always need to instruct the `BudgetAccountant` to allocate the budget to each operation. Then, we can trigger the pipeline and observe its result.\n",
        "\n",
        "```\n",
        "budget_accountant.compute_budgets()\n",
        "dp_result1 | beam.Map(print)\n",
        "```\n"
      ]
    },
    {
      "cell_type": "markdown",
      "metadata": {
        "id": "iQIZ_F2ry46e"
      },
      "source": [
        "# Framework-specific API: Spark (WIP)\n",
        "\n",
        "We were unable to run Spark from Colab due to serialization issue. Examples of Spark API usage can be found in our GitHub repository."
      ]
    }
  ],
  "metadata": {
    "colab": {
      "collapsed_sections": [],
      "name": "PipelineDP restaurant codelab",
      "provenance": [],
      "toc_visible": true
    },
    "kernelspec": {
      "display_name": "Python 3",
      "name": "python3"
    },
    "language_info": {
      "name": "python"
    }
  },
  "nbformat": 4,
  "nbformat_minor": 0
}
