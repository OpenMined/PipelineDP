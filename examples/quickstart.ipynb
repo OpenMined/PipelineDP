{
  "nbformat": 4,
  "nbformat_minor": 0,
  "metadata": {
    "colab": {
      "collapsed_sections": [],
      "name": "PipelineDP Quick Start ",
      "provenance": [],
      "toc_visible": true
    },
    "kernelspec": {
      "display_name": "Python 3",
      "name": "python3"
    },
    "language_info": {
      "name": "python"
    }
  },
  "cells": [
    {
      "cell_type": "markdown",
      "metadata": {
        "id": "bW1gifIe0pUt"
      },
      "source": [
        "<table class=\"tfo-notebook-buttons\" align=\"left\">\n",
        "  <td>\n",
        "    <a target=\"_blank\" href=\"https://colab.research.google.com/github/OpenMined/PipelineDP/blob/main/examples/quickstart.ipynb\"><img src=\"https://www.tensorflow.org/images/colab_logo_32px.png\" />Run in Google Colab</a>\n",
        "  </td>\n",
        "  <td>\n",
        "    <a target=\"_blank\" href=\"https://github.com/OpenMined/PipelineDP/blob/main/examples/quickstart.ipynb\"><img src=\"https://www.tensorflow.org/images/GitHub-Mark-32px.png\" />View source on GitHub</a>\n",
        "  </td>\n",
        "</table>"
      ]
    },
    {
      "cell_type": "markdown",
      "metadata": {
        "id": "3Pa1EeIdJyZn"
      },
      "source": [
        "This is a simple example that shows how to calculate anonymized statistics using PipelineDP. The input data is a simulated dataset of visits to some restaurant during a 7 day period. Each visit is characterized by a visitor ID, the entry date, and the amount of money spent. In this colab we use Pipeline DP\n",
        "Core API to calculate the count of restaurant visits per day.\n"
      ]
    },
    {
      "cell_type": "markdown",
      "metadata": {
        "id": "zxcPpZGuAPq8"
      },
      "source": [
        "# Install dependencies and download data\n",
        "\n",
        "Run the code below to install the necessary dependencies, load and explore the input data.\n"
      ]
    },
    {
      "cell_type": "code",
      "execution_count": 1,
      "metadata": {
        "id": "E8yzpKYNbHTF",
        "cellView": "form",
        "colab": {
          "base_uri": "https://localhost:8080/",
          "height": 206
        },
        "outputId": "82be0530-525c-45fe-ea3c-bbcdf22b0e36"
      },
      "outputs": [
        {
          "output_type": "execute_result",
          "data": {
            "text/html": [
              "\n",
              "  <div id=\"df-81441a6e-18e6-40bc-8e85-8763c291eb17\">\n",
              "    <div class=\"colab-df-container\">\n",
              "      <div>\n",
              "<style scoped>\n",
              "    .dataframe tbody tr th:only-of-type {\n",
              "        vertical-align: middle;\n",
              "    }\n",
              "\n",
              "    .dataframe tbody tr th {\n",
              "        vertical-align: top;\n",
              "    }\n",
              "\n",
              "    .dataframe thead th {\n",
              "        text-align: right;\n",
              "    }\n",
              "</style>\n",
              "<table border=\"1\" class=\"dataframe\">\n",
              "  <thead>\n",
              "    <tr style=\"text-align: right;\">\n",
              "      <th></th>\n",
              "      <th>user_id</th>\n",
              "      <th>enter_time</th>\n",
              "      <th>spent_minutes</th>\n",
              "      <th>spent_money</th>\n",
              "      <th>day</th>\n",
              "    </tr>\n",
              "  </thead>\n",
              "  <tbody>\n",
              "    <tr>\n",
              "      <th>0</th>\n",
              "      <td>580</td>\n",
              "      <td>9:27AM</td>\n",
              "      <td>29</td>\n",
              "      <td>17</td>\n",
              "      <td>1</td>\n",
              "    </tr>\n",
              "    <tr>\n",
              "      <th>1</th>\n",
              "      <td>1215</td>\n",
              "      <td>9:16AM</td>\n",
              "      <td>45</td>\n",
              "      <td>18</td>\n",
              "      <td>1</td>\n",
              "    </tr>\n",
              "    <tr>\n",
              "      <th>2</th>\n",
              "      <td>448</td>\n",
              "      <td>11:55AM</td>\n",
              "      <td>12</td>\n",
              "      <td>16</td>\n",
              "      <td>1</td>\n",
              "    </tr>\n",
              "    <tr>\n",
              "      <th>3</th>\n",
              "      <td>125</td>\n",
              "      <td>10:47AM</td>\n",
              "      <td>27</td>\n",
              "      <td>20</td>\n",
              "      <td>1</td>\n",
              "    </tr>\n",
              "    <tr>\n",
              "      <th>4</th>\n",
              "      <td>484</td>\n",
              "      <td>11:08AM</td>\n",
              "      <td>35</td>\n",
              "      <td>13</td>\n",
              "      <td>1</td>\n",
              "    </tr>\n",
              "  </tbody>\n",
              "</table>\n",
              "</div>\n",
              "      <button class=\"colab-df-convert\" onclick=\"convertToInteractive('df-81441a6e-18e6-40bc-8e85-8763c291eb17')\"\n",
              "              title=\"Convert this dataframe to an interactive table.\"\n",
              "              style=\"display:none;\">\n",
              "        \n",
              "  <svg xmlns=\"http://www.w3.org/2000/svg\" height=\"24px\"viewBox=\"0 0 24 24\"\n",
              "       width=\"24px\">\n",
              "    <path d=\"M0 0h24v24H0V0z\" fill=\"none\"/>\n",
              "    <path d=\"M18.56 5.44l.94 2.06.94-2.06 2.06-.94-2.06-.94-.94-2.06-.94 2.06-2.06.94zm-11 1L8.5 8.5l.94-2.06 2.06-.94-2.06-.94L8.5 2.5l-.94 2.06-2.06.94zm10 10l.94 2.06.94-2.06 2.06-.94-2.06-.94-.94-2.06-.94 2.06-2.06.94z\"/><path d=\"M17.41 7.96l-1.37-1.37c-.4-.4-.92-.59-1.43-.59-.52 0-1.04.2-1.43.59L10.3 9.45l-7.72 7.72c-.78.78-.78 2.05 0 2.83L4 21.41c.39.39.9.59 1.41.59.51 0 1.02-.2 1.41-.59l7.78-7.78 2.81-2.81c.8-.78.8-2.07 0-2.86zM5.41 20L4 18.59l7.72-7.72 1.47 1.35L5.41 20z\"/>\n",
              "  </svg>\n",
              "      </button>\n",
              "      \n",
              "  <style>\n",
              "    .colab-df-container {\n",
              "      display:flex;\n",
              "      flex-wrap:wrap;\n",
              "      gap: 12px;\n",
              "    }\n",
              "\n",
              "    .colab-df-convert {\n",
              "      background-color: #E8F0FE;\n",
              "      border: none;\n",
              "      border-radius: 50%;\n",
              "      cursor: pointer;\n",
              "      display: none;\n",
              "      fill: #1967D2;\n",
              "      height: 32px;\n",
              "      padding: 0 0 0 0;\n",
              "      width: 32px;\n",
              "    }\n",
              "\n",
              "    .colab-df-convert:hover {\n",
              "      background-color: #E2EBFA;\n",
              "      box-shadow: 0px 1px 2px rgba(60, 64, 67, 0.3), 0px 1px 3px 1px rgba(60, 64, 67, 0.15);\n",
              "      fill: #174EA6;\n",
              "    }\n",
              "\n",
              "    [theme=dark] .colab-df-convert {\n",
              "      background-color: #3B4455;\n",
              "      fill: #D2E3FC;\n",
              "    }\n",
              "\n",
              "    [theme=dark] .colab-df-convert:hover {\n",
              "      background-color: #434B5C;\n",
              "      box-shadow: 0px 1px 3px 1px rgba(0, 0, 0, 0.15);\n",
              "      filter: drop-shadow(0px 1px 2px rgba(0, 0, 0, 0.3));\n",
              "      fill: #FFFFFF;\n",
              "    }\n",
              "  </style>\n",
              "\n",
              "      <script>\n",
              "        const buttonEl =\n",
              "          document.querySelector('#df-81441a6e-18e6-40bc-8e85-8763c291eb17 button.colab-df-convert');\n",
              "        buttonEl.style.display =\n",
              "          google.colab.kernel.accessAllowed ? 'block' : 'none';\n",
              "\n",
              "        async function convertToInteractive(key) {\n",
              "          const element = document.querySelector('#df-81441a6e-18e6-40bc-8e85-8763c291eb17');\n",
              "          const dataTable =\n",
              "            await google.colab.kernel.invokeFunction('convertToInteractive',\n",
              "                                                     [key], {});\n",
              "          if (!dataTable) return;\n",
              "\n",
              "          const docLinkHtml = 'Like what you see? Visit the ' +\n",
              "            '<a target=\"_blank\" href=https://colab.research.google.com/notebooks/data_table.ipynb>data table notebook</a>'\n",
              "            + ' to learn more about interactive tables.';\n",
              "          element.innerHTML = '';\n",
              "          dataTable['output_type'] = 'display_data';\n",
              "          await google.colab.output.renderOutput(dataTable, element);\n",
              "          const docLink = document.createElement('div');\n",
              "          docLink.innerHTML = docLinkHtml;\n",
              "          element.appendChild(docLink);\n",
              "        }\n",
              "      </script>\n",
              "    </div>\n",
              "  </div>\n",
              "  "
            ],
            "text/plain": [
              "   user_id enter_time  spent_minutes  spent_money  day\n",
              "0      580     9:27AM             29           17    1\n",
              "1     1215     9:16AM             45           18    1\n",
              "2      448    11:55AM             12           16    1\n",
              "3      125    10:47AM             27           20    1\n",
              "4      484    11:08AM             35           13    1"
            ]
          },
          "metadata": {},
          "execution_count": 1
        }
      ],
      "source": [
        "#@markdown Install dependencies and download data\n",
        "\n",
        "import os\n",
        "os.chdir('/content')\n",
        "!git clone https://github.com/OpenMined/PipelineDP.git\n",
        "!pip install -r PipelineDP/requirements.dev.txt\n",
        "\n",
        "import sys\n",
        "sys.path.insert(0,'/content/PipelineDP')\n",
        "\n",
        "#Download restaurant dataset from github\n",
        "!wget https://raw.githubusercontent.com/google/differential-privacy/main/examples/go/data/week_data.csv\n",
        "\n",
        "from IPython.display import clear_output\n",
        "clear_output()\n",
        "\n",
        "import apache_beam as beam\n",
        "from apache_beam.runners.portability import fn_api_runner\n",
        "from apache_beam.runners.interactive import interactive_runner\n",
        "from apache_beam.runners.interactive.interactive_beam import *\n",
        "import pyspark\n",
        "from dataclasses import dataclass\n",
        "import pipeline_dp\n",
        "\n",
        "import pandas as pd\n",
        "import numpy as np\n",
        "import matplotlib.pyplot as plt\n",
        "\n",
        "df = pd.read_csv('week_data.csv')\n",
        "df.rename(inplace=True, columns={'VisitorId' : 'user_id', 'Time entered' : 'enter_time', 'Time spent (minutes)' : 'spent_minutes', 'Money spent (euros)' : 'spent_money', 'Day' : 'day'})\n",
        "rows = [index_row[1] for index_row in df.iterrows()]\n",
        "df.head()"
      ]
    },
    {
      "cell_type": "markdown",
      "source": [
        "# Run the pipeline"
      ],
      "metadata": {
        "id": "hzPiLxByC5BJ"
      }
    },
    {
      "cell_type": "code",
      "source": [
        "# Set the backend to local backend. Other options (Beam or Spark)\n",
        "# are possible.\n",
        "backend = pipeline_dp.LocalBackend()\n",
        "\n",
        "# Define the total budget.\n",
        "budget_accountant = pipeline_dp.NaiveBudgetAccountant(total_epsilon=1, total_delta=1e-6)\n",
        "\n",
        "# Create DPEngine which will execute the logic.\n",
        "dp_engine = pipeline_dp.DPEngine(budget_accountant, backend)\n",
        "\n",
        "# Define privacy ID, partition key and aggregated value extractors.\n",
        "# The aggregated value extractor isn't used in this example.\n",
        "data_extractors = pipeline_dp.DataExtractors(\n",
        "   partition_extractor=lambda row: row.day,\n",
        "   privacy_id_extractor=lambda row: row.user_id,\n",
        "   value_extractor=lambda row: 1)\n",
        "\n",
        "# Configure the aggregation parameters.\n",
        "params = pipeline_dp.AggregateParams(\n",
        "   noise_kind=pipeline_dp.NoiseKind.LAPLACE,\n",
        "   # This example computes only count but we can compute multiple\n",
        "   # ... metrics at once.\n",
        "   metrics=[pipeline_dp.Metrics.COUNT],\n",
        "   # Limits visits contributed by a visitor. A visitor can contribute to\n",
        "   # ... up to 3 days   \n",
        "   max_partitions_contributed=3,\n",
        "   # ... and up to 2 visits per day. \n",
        "   max_contributions_per_partition=2,\n",
        "   # Configure the output partition keys as they are publicly known.\n",
        "   # The output should include all week days.\n",
        "   public_partitions=list(range(1, 8)))\n",
        "\n",
        "# Create a computational graph for the aggregation.\n",
        "# All computations are lazy. dp_result is iterable, but iterating it would\n",
        "# fail until budget is computed (below).\n",
        "# It’s possible to call DPEngine.aggregate multiple times with different\n",
        "# metrics to compute.\n",
        "dp_result = dp_engine.aggregate(rows, params, data_extractors)\n",
        "\n",
        "# Compute budget per each DP operation. \n",
        "budget_accountant.compute_budgets()\n",
        "\n",
        "# Here's where the lazy iterator initiates computations and gets transformed\n",
        "# into actual results\n",
        "dp_result = list(dp_result)\n"
      ],
      "metadata": {
        "id": "rFj2u61qBx0r"
      },
      "execution_count": 12,
      "outputs": []
    },
    {
      "cell_type": "markdown",
      "source": [
        "# Inspect the result"
      ],
      "metadata": {
        "id": "hfHqnCLcDqpU"
      }
    },
    {
      "cell_type": "code",
      "source": [
        "#@markdown ##Inspect the result\n",
        "#@markdown Below you can see the DP and non-DP results.\n",
        "\n",
        "# Compute non-DP result\n",
        "non_dp_count = [0] * 7\n",
        "days = range(1, 7)\n",
        "for row in rows:\n",
        "  index = row['day'] - 1\n",
        "  non_dp_count[index] += 1\n",
        "\n",
        "# Copy the DP result to a list\n",
        "dp_count = [0] * 7 \n",
        "for count_sum_per_day in dp_result:\n",
        "  index =  count_sum_per_day[0] - 1\n",
        "  dp_count[index] = count_sum_per_day[1][0]\n",
        "\n",
        "days = [\"Mon\", \"Tue\", \"Wed\", \"Thu\", \"Fri\", \"Sat\", \"Sun\"]\n",
        "x = np.arange(len(days))\n",
        "\n",
        "width = 0.35\n",
        "fig, ax = plt.subplots()\n",
        "rects1 = ax.bar(x - width/2, non_dp_count, width, label='non-DP')\n",
        "rects2 = ax.bar(x + width/2, dp_count, width, label='DP')\n",
        "ax.set_ylabel('Visit count')\n",
        "ax.set_title('Count visits per day')\n",
        "ax.set_xticks(x)\n",
        "ax.set_xticklabels(days)\n",
        "ax.legend()\n",
        "fig.tight_layout()\n",
        "plt.show()\n",
        "\n"
      ],
      "metadata": {
        "colab": {
          "base_uri": "https://localhost:8080/",
          "height": 297
        },
        "cellView": "form",
        "id": "sTkYZ0wSbo3h",
        "outputId": "4fcb5b05-5f46-4e2a-8e0e-66d8afcd18d3"
      },
      "execution_count": 11,
      "outputs": [
        {
          "output_type": "display_data",
          "data": {
            "image/png": "[encoded data removed]",
            "text/plain": [
              "<Figure size 432x288 with 1 Axes>"
            ]
          },
          "metadata": {
            "needs_background": "light"
          }
        }
      ]
    }
  ]
}
