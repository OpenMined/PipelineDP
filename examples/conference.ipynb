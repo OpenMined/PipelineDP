{
  "nbformat": 4,
  "nbformat_minor": 0,
  "metadata": {
    "colab": {
      "collapsed_sections": [],
      "name": "Conference example",
      "provenance": [],
      "toc_visible": true
    },
    "kernelspec": {
      "display_name": "Python 3",
      "name": "python3"
    },
    "language_info": {
      "name": "python"
    }
  },
  "cells": [
    {
      "cell_type": "markdown",
      "metadata": {
        "id": "bW1gifIe0pUt"
      },
      "source": [
        "<table class=\"tfo-notebook-buttons\" align=\"left\">\n",
        "  <td>\n",
        "    <a target=\"_blank\" href=\"https://colab.research.google.com/github/OpenMined/PipelineDP/blob/main/examples/conference.ipynb\"><img src=\"https://www.tensorflow.org/images/colab_logo_32px.png\" />Run in Google Colab</a>\n",
        "  </td>\n",
        "  <td>\n",
        "    <a target=\"_blank\" href=\"https://github.com/OpenMined/PipelineDP/blob/main/examples/conference.ipynb\"><img src=\"https://www.tensorflow.org/images/GitHub-Mark-32px.png\" />View source on GitHub</a>\n",
        "  </td>\n",
        "</table>"
      ]
    },
    {
      "cell_type": "markdown",
      "source": [
        "This is a simple example that shows how to calculate anonymized statistics using PipelineDP. The input data is a simulated dataset of an imaginary conference participants including their origin coutries. We use PipelineDP to calculate anonymized count of participants aggregated by country."
      ],
      "metadata": {
        "id": "ddrCVxp53UjV"
      }
    },
    {
      "cell_type": "markdown",
      "metadata": {
        "id": "zxcPpZGuAPq8"
      },
      "source": [
        "# Install dependencies and download data\n"
      ]
    },
    {
      "cell_type": "code",
      "execution_count": 1,
      "metadata": {
        "id": "E8yzpKYNbHTF"
      },
      "outputs": [],
      "source": [
        "#@markdown Install dependencies and download data\n",
        "\n",
        "!pip install pipeline-dp apache_beam\n",
        "\n",
        "from IPython.display import clear_output\n",
        "clear_output()\n",
        "import pipeline_dp\n",
        "import numpy as np\n",
        "import matplotlib.pyplot as plt"
      ]
    },
    {
      "cell_type": "markdown",
      "metadata": {
        "id": "oi-D38dUApM1"
      },
      "source": [
        "# Construct and inspect the input data\n",
        "\n",
        "Below we construct the input dataset."
      ]
    },
    {
      "cell_type": "code",
      "execution_count": 2,
      "metadata": {
        "id": "Mimkjqt9h9gr",
        "cellView": "form"
      },
      "outputs": [],
      "source": [
        "#@markdown Construct the input data\n",
        "# The format of the input is: (participant_id, country).\n",
        "# Participants u_0...u_49 come from Germany, participants u_50...u_149 come from\n",
        "# Switzerland, etc.\n",
        "input = [(f\"{u}\", \"Germany\") for u in range(50)]\n",
        "input += [(f\"{u + 50}\", \"Switzerland\") for u in range(75)]\n",
        "input += [(f\"{u + 125}\", \"France\") for u in range(30)]\n",
        "input += [(f\"{u + 155}\", \"Italy\") for u in range(40)]\n",
        "input += [(f\"{u + 195}\", \"UK\") for u in range(100)]"
      ]
    },
    {
      "cell_type": "markdown",
      "metadata": {
        "id": "e2SOjo8qiNnw"
      },
      "source": [
        "The goal of this Colab is to demonstrate how to compute the count of participants aggregated by country in a DP manner.\n",
        "\n",
        "The plot below demonstrates the non-private result."
      ]
    },
    {
      "cell_type": "code",
      "source": [
        "#@title Non-private statistics\n",
        "countries = [\"Germany\", \"Switzerland\", \"France\", \"Italy\", \"UK\"]\n",
        "non_dp_count = [0] * len(countries)\n",
        "for participant_info in input:\n",
        "  country = participant_info[1]\n",
        "  index = countries.index(country)\n",
        "  non_dp_count[index] = non_dp_count[index] + 1\n",
        "\n",
        "plt.bar(countries, non_dp_count)\n",
        "plt.suptitle('Count of participants')\n",
        "plt.show()\n"
      ],
      "metadata": {
        "colab": {
          "base_uri": "https://localhost:8080/",
          "height": 294
        },
        "id": "qR1dBaCiqNAa",
        "outputId": "9ccdf49d-a9f9-4fce-d7c7-6fc3d66f2fda",
        "cellView": "form"
      },
      "execution_count": 3,
      "outputs": [
        {
          "output_type": "display_data",
          "data": {
            "image/png": "[encoded data removed]",
            "text/plain": [
              "<Figure size 432x288 with 1 Axes>"
            ]
          },
          "metadata": {
            "needs_background": "light"
          }
        }
      ]
    },
    {
      "cell_type": "markdown",
      "source": [
        "# Run DP pipeline\n",
        "Below we compute the same statistics using differential privacy and PipelineDP."
      ],
      "metadata": {
        "id": "IIjQrB3eFmvp"
      }
    },
    {
      "cell_type": "code",
      "execution_count": 4,
      "metadata": {
        "id": "eN9fu0NkSA6u",
        "colab": {
          "base_uri": "https://localhost:8080/"
        },
        "outputId": "15bf4d5c-6a2e-48a0-8830-81c1a5ecbab4"
      },
      "outputs": [
        {
          "output_type": "stream",
          "name": "stdout",
          "text": [
            "[('Germany', MetricsTuple(privacy_id_count=49.10272994384104)), ('Switzerland', MetricsTuple(privacy_id_count=75.26271629976691)), ('France', MetricsTuple(privacy_id_count=32.206397102141636)), ('Italy', MetricsTuple(privacy_id_count=37.134226348807715)), ('UK', MetricsTuple(privacy_id_count=97.95130274764233))]\n"
          ]
        }
      ],
      "source": [
        "#@title DP statistics\n",
        "\n",
        "# Choose the backend: local, Beam or Spark\n",
        "backend = pipeline_dp.LocalBackend()\n",
        "\n",
        "# Define the total privacy loss that can be introduced by this pipeline\n",
        "budget_accountant = pipeline_dp.NaiveBudgetAccountant(total_epsilon=1, total_delta=1e-6)\n",
        "\n",
        "# Create DPEngine\n",
        "dp_engine = pipeline_dp.DPEngine(budget_accountant, backend)\n",
        "\n",
        "# Configure functions to extract partition key, privacy ID and aggregated value\n",
        "# from the input data\n",
        "data_extractors = pipeline_dp.DataExtractors(\n",
        "   partition_extractor=lambda row: row[1],\n",
        "   privacy_id_extractor=lambda row: row[0],\n",
        "   value_extractor=lambda row: 1)\n",
        "\n",
        "# Configure the aggregation parameters\n",
        "params = pipeline_dp.AggregateParams(\n",
        "   noise_kind=pipeline_dp.NoiseKind.LAPLACE,\n",
        "   metrics=[pipeline_dp.Metrics.PRIVACY_ID_COUNT],\n",
        "   max_partitions_contributed=1,\n",
        "   max_contributions_per_partition=1,\n",
        "   min_value=0,\n",
        "   max_value=1)\n",
        "\n",
        "# Create a computational graph for the aggregation.\n",
        "# All computations are lazy. dp_result is iterable, but iterating it would\n",
        "# fail until budget is computed (below).\n",
        "# It’s possible to call DPEngine.aggregate multiple times with different\n",
        "# metrics to compute.\n",
        "dp_result = dp_engine.aggregate(input, params, data_extractors)\n",
        "\n",
        "# Compute budget per each DP operation. \n",
        "budget_accountant.compute_budgets()\n",
        "\n",
        "# Here's where the lazy iterator initiates computations and gets transformed\n",
        "# into actual results\n",
        "dp_result = list(dp_result)\n",
        "print(dp_result)"
      ]
    },
    {
      "cell_type": "markdown",
      "source": [
        "# Inspect the result"
      ],
      "metadata": {
        "id": "QsguG0DeF_8L"
      }
    },
    {
      "cell_type": "code",
      "source": [
        "#@markdown ##Inspect the result\n",
        "#@markdown Below you can see the DP and non-DP results.\n",
        "\n",
        "dp_count = [0] * len(countries)\n",
        "for i, dp_count_per_country in enumerate(dp_result):\n",
        "  dp_count[i] = dp_count_per_country[1][0]\n",
        "\n",
        "\n",
        "x = np.arange(len(countries))\n",
        "\n",
        "width = 0.35\n",
        "fig, ax = plt.subplots()\n",
        "rects1 = ax.bar(x - width/2, non_dp_count, width, label='non-DP')\n",
        "rects2 = ax.bar(x + width/2, dp_count, width, label='DP')\n",
        "ax.set_title('Count participants per country')\n",
        "ax.set_xticks(x)\n",
        "ax.set_xticklabels(countries)\n",
        "ax.legend()\n",
        "fig.tight_layout()\n",
        "plt.savefig(\"chart.png\")\n",
        "plt.show()\n"
      ],
      "metadata": {
        "colab": {
          "base_uri": "https://localhost:8080/",
          "height": 297
        },
        "id": "sTkYZ0wSbo3h",
        "outputId": "82d59080-d00b-4c00-ff90-dde4838541d6"
      },
      "execution_count": 5,
      "outputs": [
        {
          "output_type": "display_data",
          "data": {
            "image/png": "[encoded data removed]",
            "text/plain": [
              "<Figure size 432x288 with 1 Axes>"
            ]
          },
          "metadata": {
            "needs_background": "light"
          }
        }
      ]
    }
  ]
}
