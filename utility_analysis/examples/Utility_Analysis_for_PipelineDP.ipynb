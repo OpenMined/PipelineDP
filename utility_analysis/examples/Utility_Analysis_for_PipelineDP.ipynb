{
  "cells": [
    {
      "cell_type": "markdown",
      "metadata": {
        "id": "AGpRgZyhmccB"
      },
      "source": [
        "<table class=\"tfo-notebook-buttons\" align=\"left\">\n",
        "  <td>\n",
        "    <a target=\"_blank\" href=\"https://colab.research.google.com/github/OpenMined/PipelineDP/blob/main/utility_analysis/examples/Utility_Analysis_for_PipelineDP.ipynb\"><img src=\"https://www.tensorflow.org/images/colab_logo_32px.png\" />Run in Google Colab</a>\n",
        "  </td>\n",
        "  <td>\n",
        "    <a target=\"_blank\" href=\"https://github.com/OpenMined/PipelineDP/blob/main/utility_analysis/examples/Utility_Analysis_for_PipelineDP.ipynb\"><img src=\"https://www.tensorflow.org/images/GitHub-Mark-32px.png\" />View source on GitHub</a>\n",
        "  </td>\n",
        "</table>"
      ]
    },
    {
      "cell_type": "markdown",
      "metadata": {
        "id": "r1_MR20IW8BS"
      },
      "source": [
        "Welcome! This codelab demonstrates a scalable utility analysis tool for PipelineDP and Differential Privacy in general.\n",
        "\n",
        "For more information about PipelineDP, please see https://pipelinedp.io/. \n",
        "# Audience\n",
        "The codelab aims to be self-contained. However, the codelab mainly targets users who are familiar with basic knowledge of differential privacy (DP) and have one of the following goals:\n",
        "1. Understand how much DP will influence their own data.\n",
        "2. Tune DP parameters to get the most data utility for a given level of user privacy for large datasets in a scalable way.\n",
        "3. Quantify privacy vs utility trade-offs of DP.\n",
        "\n",
        "We recommend all readers take a look at the Background section of the PipelineDP [restaurant visits example](https://github.com/OpenMined/PipelineDP/blob/main/examples/restaurant_visits.ipynb). It contains the key definitions used across this document.\n",
        "\n",
        "# Background\n",
        "\n",
        "## Differential Privacy\n",
        "Differential privacy offers a tradeoff between the accuracy of aggregations over statistical databases and the chance of learning something about individual records in the database. This tradeoff is an easily configured parameter; you can increase privacy by decreasing the accuracy of your statistics (or vice versa). You can find a very high-level, non-technical introduction to differential privacy in [this blog post](https://desfontain.es/privacy/friendly-intro-to-differential-privacy.html), and a more detailed explanation of how it works in the book [\\\"The Algorithmic Foundations of Differential Privacy\\\"](https://www.cis.upenn.edu/~aaroth/Papers/privacybook.pdf).\n",
        "\n",
        "## PipelineDP\n",
        "PipelineDP is a Python end-to-end framework for generating differentially private statistics. PipelineDP provides a high-level API for anonymizing data using Apache Beam It also has a core API that can be used to define a generic pipeline which can be then run on various engines. \n",
        "\n",
        "# Why utility analysis\n",
        "When applying differential privacy, the quality of your data might deteriorate due to many factors. And multiple parameters can influence the data deterioration. \n",
        "\n",
        "Utility analysis tool has designed a process that simulates the behavior of DP on a sample of your data and shows how different parameter settings affect the quality of your aggregation metrics. This exploration might help you have a data-driven decision on usages of DP.\n",
        "\n",
        "# Example\n",
        "The codelab is based on the following scenario: imagine we have a collection of records that represent restaurant visits for 7 days. Each visit has a visitor ID, and each visitor may enter the restaurant multiple times a day and several days a week. We would like to calculate the DP statistics of the count of times people spent money at the restaurant per week day. We would show even for the same privacy parameters, other bounding parameters can make huge differences in the results."
      ]
    },
    {
      "cell_type": "code",
      "execution_count": 1,
      "metadata": {
        "cellView": "form",
        "id": "-ldZ54_PvjEW"
      },
      "outputs": [],
      "source": [
        "#@title Install dependencies and download data\n",
        "import os\n",
        "os.chdir('/content')\n",
        "!rm -rf PipelineDP\n",
        "!git clone https://github.com/OpenMined/PipelineDP.git\n",
        "!git reset --hard 7833794e94ca4dfbbf70b4786a54db46b3bca5bf\n",
        "!pip install -r PipelineDP/requirements.dev.txt\n",
        "\n",
        "import sys\n",
        "sys.path.insert(0,'/content/PipelineDP')\n",
        "\n",
        "#Download restaurant dataset from github\n",
        "!wget https://raw.githubusercontent.com/google/differential-privacy/main/examples/go/data/week_data.csv\n",
        "\n",
        "from IPython.display import clear_output\n",
        "\n",
        "from dataclasses import dataclass\n",
        "import pipeline_dp\n",
        "import utility_analysis\n",
        "\n",
        "import pandas as pd\n",
        "import numpy as np\n",
        "import matplotlib.pyplot as plt\n",
        "clear_output()"
      ]
    },
    {
      "cell_type": "code",
      "execution_count": 2,
      "metadata": {
        "cellView": "form",
        "colab": {
          "base_uri": "https://localhost:8080/",
          "height": 206
        },
        "id": "ya47xXGgwEuu",
        "outputId": "afb4f7f9-16ec-4438-d828-d9661cb949d8"
      },
      "outputs": [
        {
          "data": {
            "text/html": [
              "\n",
              "  <div id=\"df-6eb87105-44d1-4360-a51e-a8c5f8b7018f\">\n",
              "    <div class=\"colab-df-container\">\n",
              "      <div>\n",
              "<style scoped>\n",
              "    .dataframe tbody tr th:only-of-type {\n",
              "        vertical-align: middle;\n",
              "    }\n",
              "\n",
              "    .dataframe tbody tr th {\n",
              "        vertical-align: top;\n",
              "    }\n",
              "\n",
              "    .dataframe thead th {\n",
              "        text-align: right;\n",
              "    }\n",
              "</style>\n",
              "<table border=\"1\" class=\"dataframe\">\n",
              "  <thead>\n",
              "    <tr style=\"text-align: right;\">\n",
              "      <th></th>\n",
              "      <th>user_id</th>\n",
              "      <th>enter_time</th>\n",
              "      <th>spent_minutes</th>\n",
              "      <th>spent_money</th>\n",
              "      <th>day</th>\n",
              "    </tr>\n",
              "  </thead>\n",
              "  <tbody>\n",
              "    <tr>\n",
              "      <th>0</th>\n",
              "      <td>580</td>\n",
              "      <td>9:27AM</td>\n",
              "      <td>29</td>\n",
              "      <td>17</td>\n",
              "      <td>1</td>\n",
              "    </tr>\n",
              "    <tr>\n",
              "      <th>1</th>\n",
              "      <td>1215</td>\n",
              "      <td>9:16AM</td>\n",
              "      <td>45</td>\n",
              "      <td>18</td>\n",
              "      <td>1</td>\n",
              "    </tr>\n",
              "    <tr>\n",
              "      <th>2</th>\n",
              "      <td>448</td>\n",
              "      <td>11:55AM</td>\n",
              "      <td>12</td>\n",
              "      <td>16</td>\n",
              "      <td>1</td>\n",
              "    </tr>\n",
              "    <tr>\n",
              "      <th>3</th>\n",
              "      <td>125</td>\n",
              "      <td>10:47AM</td>\n",
              "      <td>27</td>\n",
              "      <td>20</td>\n",
              "      <td>1</td>\n",
              "    </tr>\n",
              "    <tr>\n",
              "      <th>4</th>\n",
              "      <td>484</td>\n",
              "      <td>11:08AM</td>\n",
              "      <td>35</td>\n",
              "      <td>13</td>\n",
              "      <td>1</td>\n",
              "    </tr>\n",
              "  </tbody>\n",
              "</table>\n",
              "</div>\n",
              "      <button class=\"colab-df-convert\" onclick=\"convertToInteractive('df-6eb87105-44d1-4360-a51e-a8c5f8b7018f')\"\n",
              "              title=\"Convert this dataframe to an interactive table.\"\n",
              "              style=\"display:none;\">\n",
              "        \n",
              "  <svg xmlns=\"http://www.w3.org/2000/svg\" height=\"24px\"viewBox=\"0 0 24 24\"\n",
              "       width=\"24px\">\n",
              "    <path d=\"M0 0h24v24H0V0z\" fill=\"none\"/>\n",
              "    <path d=\"M18.56 5.44l.94 2.06.94-2.06 2.06-.94-2.06-.94-.94-2.06-.94 2.06-2.06.94zm-11 1L8.5 8.5l.94-2.06 2.06-.94-2.06-.94L8.5 2.5l-.94 2.06-2.06.94zm10 10l.94 2.06.94-2.06 2.06-.94-2.06-.94-.94-2.06-.94 2.06-2.06.94z\"/><path d=\"M17.41 7.96l-1.37-1.37c-.4-.4-.92-.59-1.43-.59-.52 0-1.04.2-1.43.59L10.3 9.45l-7.72 7.72c-.78.78-.78 2.05 0 2.83L4 21.41c.39.39.9.59 1.41.59.51 0 1.02-.2 1.41-.59l7.78-7.78 2.81-2.81c.8-.78.8-2.07 0-2.86zM5.41 20L4 18.59l7.72-7.72 1.47 1.35L5.41 20z\"/>\n",
              "  </svg>\n",
              "      </button>\n",
              "      \n",
              "  <style>\n",
              "    .colab-df-container {\n",
              "      display:flex;\n",
              "      flex-wrap:wrap;\n",
              "      gap: 12px;\n",
              "    }\n",
              "\n",
              "    .colab-df-convert {\n",
              "      background-color: #E8F0FE;\n",
              "      border: none;\n",
              "      border-radius: 50%;\n",
              "      cursor: pointer;\n",
              "      display: none;\n",
              "      fill: #1967D2;\n",
              "      height: 32px;\n",
              "      padding: 0 0 0 0;\n",
              "      width: 32px;\n",
              "    }\n",
              "\n",
              "    .colab-df-convert:hover {\n",
              "      background-color: #E2EBFA;\n",
              "      box-shadow: 0px 1px 2px rgba(60, 64, 67, 0.3), 0px 1px 3px 1px rgba(60, 64, 67, 0.15);\n",
              "      fill: #174EA6;\n",
              "    }\n",
              "\n",
              "    [theme=dark] .colab-df-convert {\n",
              "      background-color: #3B4455;\n",
              "      fill: #D2E3FC;\n",
              "    }\n",
              "\n",
              "    [theme=dark] .colab-df-convert:hover {\n",
              "      background-color: #434B5C;\n",
              "      box-shadow: 0px 1px 3px 1px rgba(0, 0, 0, 0.15);\n",
              "      filter: drop-shadow(0px 1px 2px rgba(0, 0, 0, 0.3));\n",
              "      fill: #FFFFFF;\n",
              "    }\n",
              "  </style>\n",
              "\n",
              "      <script>\n",
              "        const buttonEl =\n",
              "          document.querySelector('#df-6eb87105-44d1-4360-a51e-a8c5f8b7018f button.colab-df-convert');\n",
              "        buttonEl.style.display =\n",
              "          google.colab.kernel.accessAllowed ? 'block' : 'none';\n",
              "\n",
              "        async function convertToInteractive(key) {\n",
              "          const element = document.querySelector('#df-6eb87105-44d1-4360-a51e-a8c5f8b7018f');\n",
              "          const dataTable =\n",
              "            await google.colab.kernel.invokeFunction('convertToInteractive',\n",
              "                                                     [key], {});\n",
              "          if (!dataTable) return;\n",
              "\n",
              "          const docLinkHtml = 'Like what you see? Visit the ' +\n",
              "            '<a target=\"_blank\" href=https://colab.research.google.com/notebooks/data_table.ipynb>data table notebook</a>'\n",
              "            + ' to learn more about interactive tables.';\n",
              "          element.innerHTML = '';\n",
              "          dataTable['output_type'] = 'display_data';\n",
              "          await google.colab.output.renderOutput(dataTable, element);\n",
              "          const docLink = document.createElement('div');\n",
              "          docLink.innerHTML = docLinkHtml;\n",
              "          element.appendChild(docLink);\n",
              "        }\n",
              "      </script>\n",
              "    </div>\n",
              "  </div>\n",
              "  "
            ],
            "text/plain": [
              "   user_id enter_time  spent_minutes  spent_money  day\n",
              "0      580     9:27AM             29           17    1\n",
              "1     1215     9:16AM             45           18    1\n",
              "2      448    11:55AM             12           16    1\n",
              "3      125    10:47AM             27           20    1\n",
              "4      484    11:08AM             35           13    1"
            ]
          },
          "execution_count": 2,
          "metadata": {},
          "output_type": "execute_result"
        }
      ],
      "source": [
        "#@title Load data to DataFrame\n",
        "df = pd.read_csv('week_data.csv')\n",
        "df.rename(inplace=True, columns={'VisitorId' : 'user_id', 'Time entered' : 'enter_time', 'Time spent (minutes)' : 'spent_minutes', 'Money spent (euros)' : 'spent_money', 'Day' : 'day'})\n",
        "rows = [index_row[1] for index_row in df.iterrows()]\n",
        "# View data\n",
        "df.head()"
      ]
    },
    {
      "cell_type": "markdown",
      "metadata": {
        "id": "550xjgRj9--q"
      },
      "source": [
        "# Refreshes for PipelineDP\n",
        "We would like to calculate the DP statistics of the count of times people spent money at the restaurant per week day. To do this in PipelineDP, you would usually write the following code. You can read the full tutorial of this in the [restaurant visits example](https://github.com/OpenMined/PipelineDP/blob/main/examples/restaurant_visits.ipynb).\n",
        "\n"
      ]
    },
    {
      "cell_type": "code",
      "execution_count": 3,
      "metadata": {
        "colab": {
          "base_uri": "https://localhost:8080/"
        },
        "id": "UyR5i_ZzwXdc",
        "outputId": "bc4fc1cf-92f8-4f7c-bf33-40e134b0d3d6"
      },
      "outputs": [
        {
          "data": {
            "text/plain": [
              "[(1, MetricsTuple(count=288.0822960666701)),\n",
              " (2, MetricsTuple(count=321.4155378487194)),\n",
              " (3, MetricsTuple(count=390.878029235595)),\n",
              " (5, MetricsTuple(count=457.57194415859703)),\n",
              " (7, MetricsTuple(count=509.52044294946245)),\n",
              " (6, MetricsTuple(count=501.3537646393379)),\n",
              " (4, MetricsTuple(count=411.6396933650976)),\n",
              " (8, MetricsTuple(count=14.254582846071571))]"
            ]
          },
          "execution_count": 3,
          "metadata": {},
          "output_type": "execute_result"
        }
      ],
      "source": [
        "#@title Local PipelineDP demo\n",
        "ops = pipeline_dp.LocalBackend()\n",
        "# Set the total privacy budget.\n",
        "budget_accountant = pipeline_dp.NaiveBudgetAccountant(total_epsilon=1,\n",
        "                                                      total_delta=1e-6)\n",
        "\n",
        "# Create a DPEngine instance.\n",
        "dp_engine = pipeline_dp.DPEngine(budget_accountant, ops)\n",
        "\n",
        "# Specify which DP aggregated metrics to compute.\n",
        "params = pipeline_dp.AggregateParams(\n",
        "    noise_kind=pipeline_dp.NoiseKind.LAPLACE,\n",
        "    metrics=[pipeline_dp.Metrics.COUNT],\n",
        "    max_partitions_contributed=7,\n",
        "    max_contributions_per_partition=2,\n",
        "    min_value=0,\n",
        "    max_value=1,\n",
        "    public_partitions=list(range(1, 9)))\n",
        "\n",
        "# Specify how to extract privacy_id, partition_key and value from an\n",
        "# element of movie view collection.\n",
        "data_extractors = pipeline_dp.DataExtractors(\n",
        "    partition_extractor=lambda row: row.day,\n",
        "    privacy_id_extractor=lambda row: row.user_id,\n",
        "    value_extractor=lambda row: row.spent_money)\n",
        "\n",
        "# Build computational graph for aggregation\n",
        "dp_result = dp_engine.aggregate(rows, params, data_extractors)\n",
        "# Compute budget per each DP operation\n",
        "budget_accountant.compute_budgets()\n",
        "# Run computation.\n",
        "dp_result = list(dp_result)\n",
        "\n",
        "dp_result"
      ]
    },
    {
      "cell_type": "markdown",
      "metadata": {
        "id": "sqp4HImeEeKA"
      },
      "source": [
        "Multiple parameters needs to be specified in `AggregateParams`. Notably, `max_partitions_contributed` and `max_contributions_per_partition` are two parameters we want to tune to achieve higher utility without changing privacy protection. The following section will focus on using utility analysis library to achieve this."
      ]
    },
    {
      "cell_type": "markdown",
      "metadata": {
        "id": "Fm7r6mWyBRIh"
      },
      "source": [
        "# Utility analysis by sketches\n",
        "The goal of utility analysis is to tune parameters, audit the data deterioration and choose appropriate parameters in a scalable way without re-running the data pipeline again.\n",
        "We introduce a sketch mechanism that works for two of the most common aggregation methods count and sum. Users are able to simulate DP results on sketches.\n",
        "\n",
        "Utility analysis consists of two steps: Generate sketch and compute aggregation on the sketches.\n",
        "\n"
      ]
    },
    {
      "cell_type": "markdown",
      "metadata": {
        "id": "6Zl884nrQJIO"
      },
      "source": [
        "# Sketch\n",
        "\n",
        "Utility analysis library provides a helper class `utility_analysis.DataPeeker` and a method `sketch` to generate sketches. Like PipelineDP, to use the method, we need some preparation.\n",
        "\n",
        "## Select the framework (PipelineBackend)\n",
        "`PipelineBackend` is an object which encapsulates the pipeline framework. In this example we use `LocalBackend` in order to run the pipeline locally. Users can port the following code to a framework which PipelineDP supports (e.g., Spark or Beam).\n",
        "\n",
        "## Configure data extractors\n",
        "Now we need to tell the library how to extract the privacy ID, the partition key and the value to be aggregated from the input data. For this, we configure `DataExtractors` as below. The extractor functions will be applied to each row of the input data.\n",
        "\n",
        "Note the above two parameters are exactly the same as the corresponding parameters in the DP metrics computation. (See the Local PipelineDP demo for reference)\n",
        "\n",
        "## Configure SampleParams\n",
        "SampleParams is a utility analysis library only parameter that controls the library on how to generate the sketches.\n",
        "\n",
        "* `metric` is a aggregation method that will be executed on the dataset. In our example we count visits and hence we use `COUNT` aggregation. Note for now the sketch-based utility analysis library can only support one aggregation method and it must be `COUNT` or `SUM`.\n",
        "\n",
        "* `number_of_sampled_partitions` is the approximate number of partitions that are kept in the sketches. For this demo, because the number of partitions are small, this parameter is a noop. However this is needed to speed up computation time in the tuning process in for a large-scale dataset that contains many partitions.\n",
        "\n",
        "## Generate sketches\n",
        "Finally, sketches can be computed by construct a `DataPeeker` and calling the method with the parameters.  \n",
        "```\n",
        "pipeline_backend = pipeline_dp.LocalBackend()\n",
        "peeker = utility_analysis.DataPeeker(pipeline_backend)\n",
        "sketches = peeker.sketch(input_data, sample_params, data_extractors)\n",
        "```\n",
        "Please check the following section for the code"
      ]
    },
    {
      "cell_type": "code",
      "execution_count": 4,
      "metadata": {
        "id": "FXRPGlInwi_p"
      },
      "outputs": [],
      "source": [
        "#@title DP Sketch Generation { run: \"auto\" }\n",
        "#@markdown Generate sketches in local backend for demo. Users can port the \n",
        "#@markdown following code to a framework which PipelineDP supports (e.g., Spark or Beam).\n",
        "dp_metric = pipeline_dp.Metrics.COUNT #@param [\"pipeline_dp.Metrics.COUNT\", \"pipeline_dp.Metrics.SUM\"] {type:\"raw\"}\n",
        "# Tells the method how to extract the privacy ID, \n",
        "# the partition key and the value to be aggregated \n",
        "# from the input data\n",
        "data_extractors = pipeline_dp.DataExtractors(\n",
        "    partition_extractor=lambda row: row.day,\n",
        "    privacy_id_extractor=lambda row: row.user_id,\n",
        "    value_extractor=lambda row: row.spent_money)\n",
        "MAX_PARTITION_NUM = 100\n",
        "input_data = rows\n",
        "\n",
        "# Change this to a proper pipeline backend in real use cases\n",
        "pipeline_backend = pipeline_dp.LocalBackend() \n",
        "peeker = utility_analysis.DataPeeker(pipeline_backend)\n",
        "sample_params = utility_analysis.SampleParams(  \n",
        "    number_of_sampled_partitions=MAX_PARTITION_NUM, metrics=[dp_metric])\n",
        "sketches = list(peeker.sketch(input_data, sample_params,\n",
        "                                  data_extractors))\n",
        "# print(sketches)"
      ]
    },
    {
      "cell_type": "markdown",
      "metadata": {
        "id": "ilWkMlm5ZQFX"
      },
      "source": [
        "# Compute non-private result\n",
        "Non-private results are useful to compare with simulated private results to see utility loss.\n",
        "Because non-private results don't depend on parameters we want to tune, they only need to be computed once for all parameters. They can be computed by \n",
        "```\n",
        "raw_result = list(utility_analysis.peeker_engine.aggregate_sketch_true(pipeline_dp.LocalBackend(), sketches, dp_metric))\n",
        "```"
      ]
    },
    {
      "cell_type": "code",
      "execution_count": 5,
      "metadata": {
        "id": "1TMe9o0rwkTw"
      },
      "outputs": [],
      "source": [
        "#@title Calculate non-private result\n",
        "raw_result = list(utility_analysis.peeker_engine.aggregate_sketch_true(pipeline_dp.LocalBackend(), sketches, dp_metric))\n",
        "# Transform for ease of visualization\n",
        "raw_result = [(pk, [val]) for pk, val in raw_result]\n",
        "# print(raw_result)"
      ]
    },
    {
      "cell_type": "markdown",
      "metadata": {
        "id": "IODUfuL6ZyUQ"
      },
      "source": [
        "# Run DP simulation on sketches\n",
        "\n",
        "You can run the DP Utility Anlayis section by changing the parameters and audit the results in realtime. The approximated DP metric is computed by.\n",
        "```python\n",
        "budget_accountant = pipeline_dp.NaiveBudgetAccountant(total_epsilon=total_epsilon, total_delta=total_delta)\n",
        "peeker_engine = utility_analysis.peeker_engine.PeekerEngine(budget_accountant, pipeline_backend)\n",
        "# params = ..\n",
        "peeker_engine.aggregate_sketches(sketches, params)\n",
        "```\n",
        "Note 1. the params is exactly the same as the `AggregateParams` input of `aggregate` function of the real DP engine in PipelineDP.\n",
        "\n",
        "Note 2. the approximated DP metric computed by `peeker_engine.aggregate_sketches` are not strict DP metrics. Multiple shortcuts are used to speedup computation. The results are mostly used to analyze utility\n",
        "\n",
        "Note 3. Because of randomness, the approximated DP metric differe a little in each running"
      ]
    },
    {
      "cell_type": "markdown",
      "metadata": {
        "id": "4Knm5wwpfFoB"
      },
      "source": [
        "We are setting max_partitions_contributed to 7 inintially. Because there are 7 days in a week. However, the utility come out of DP may not be optimal: sometimes the differences between private and approximated private data are **5-10%**.\n",
        "\n",
        "Try lowering max_partitions_contributed to 1 or 2. You will see differences between private and approximated private data are **<1%**.\n",
        "\n",
        "The intuition behind this is: only a small portion of users actually contributes 7 partitions in the dataset (e.g. in this example, probably most visitors only go to resturant once or twice in a week). \n",
        "So setting a max_partitions_contributed won't preserve much more contributions. However there are siginificanlty amount of noises introduced by the high max_partitions_contributed to all the partitions.\n"
      ]
    },
    {
      "cell_type": "code",
      "execution_count": 6,
      "metadata": {
        "cellView": "form",
        "id": "_I55AuTgwipi"
      },
      "outputs": [],
      "source": [
        "#@markdown Drawing and metrics helper functions\n",
        "def create_hist(aggregated_result, result_index, label):\n",
        "  aggregated_result.sort(key=lambda x:x[0])\n",
        "  partitions = [x[0] for x in aggregated_result]\n",
        "  values = [x[1][result_index] for x in aggregated_result]\n",
        "  plt.bar(partitions, values, alpha=0.5, label=label)\n",
        "\n",
        "\n",
        "def draw_diff_charts(aggregated_result, dp_result, result_index):\n",
        "  fig = plt.figure(figsize=(8, 6), dpi=80)\n",
        "  create_hist(aggregated_result, result_index, 'raw')\n",
        "  create_hist(dp_result, result_index, 'dp')\n",
        "  fig.legend(loc='upper right')\n",
        "  plt.xlabel('Partitions')\n",
        "  plt.ylabel('Aggregated Value')\n",
        "  fig.show()\n",
        "\n",
        "\n",
        "def draw_diff_charts_altair(aggregated_result, dp_result, result_index):\n",
        "  df = pd.DataFrame()\n",
        "  create_hist(aggregated_result, result_index, 'raw')\n",
        "  create_hist(dp_result, result_index, 'dp')\n",
        "  fig.legend(loc='upper right')\n",
        "  plt.xlabel('Partitions')\n",
        "  plt.ylabel('Aggregated Value')\n",
        "  fig.show()\n",
        "\n",
        "def diff_metrics(raw_result, dp_result):\n",
        "    # Assume both to be in the format of [(pk, [orderred metrics])]\n",
        "    raw_dict = dict(raw_result)\n",
        "    dp_dict = dict(dp_result)\n",
        "    print(f'raw partitions: ', len(raw_dict))\n",
        "    print(f'dp partitions: ', len(dp_dict))\n",
        "    print(f'dropped partition: ', len(raw_dict) - len(dp_dict))\n",
        "    print('Difference:')\n",
        "    for k, raw_metrics in raw_dict.items():\n",
        "        if k in dp_dict:\n",
        "            print(k, [\n",
        "                f'{(dp_v - raw_v) / raw_v:.3%}'\n",
        "                for dp_v, raw_v in zip(dp_dict[k], raw_metrics)\n",
        "            ], end=', ')\n",
        "        else:\n",
        "            print(k, ' N/A')"
      ]
    },
    {
      "cell_type": "code",
      "execution_count": 11,
      "metadata": {
        "cellView": "form",
        "colab": {
          "base_uri": "https://localhost:8080/",
          "height": 583
        },
        "id": "SqSvfiCewse6",
        "outputId": "31627eb2-0ff3-4daf-9f1f-200dc0430bcc"
      },
      "outputs": [
        {
          "name": "stdout",
          "output_type": "stream",
          "text": [
            "drawing for metrics:  Metrics.COUNT\n",
            "raw partitions:  7\n",
            "dp partitions:  7\n",
            "dropped partition:  0\n",
            "Difference:\n",
            "1 ['1.762%'], 2 ['12.641%'], 3 ['4.603%'], 4 ['-1.702%'], 5 ['4.496%'], 6 ['-1.412%'], 7 ['11.863%'], "
          ]
        },
        {
          "data": {
            "image/png": "[encoded data removed]",
            "text/plain": [
              "<Figure size 640x480 with 1 Axes>"
            ]
          },
          "metadata": {
            "needs_background": "light"
          },
          "output_type": "display_data"
        }
      ],
      "source": [
        "#@title DP Utility Analysis { run: \"auto\", vertical-output: true}\n",
        "metrics = [dp_metric]\n",
        "total_epsilon =  1#@param {type:\"number\"}\n",
        "total_delta=1e-5 #@param {type:\"number\"}\n",
        "max_partitions_contributed=7 #@param {type:\"number\"}\n",
        "max_contributions_per_partition=1 #@param {type:\"number\"}\n",
        "# Specify local backend because utility anlysis is supposed to be run locally \n",
        "# in an interactive environment\n",
        "pipeline_backend = pipeline_dp.LocalBackend() \n",
        "budget_accountant = pipeline_dp.NaiveBudgetAccountant(total_epsilon=total_epsilon,\n",
        "                                                    total_delta=total_delta)\n",
        "peeker_engine = utility_analysis.peeker_engine.PeekerEngine(budget_accountant, pipeline_backend)\n",
        "params = pipeline_dp.AggregateParams(\n",
        "  noise_kind=pipeline_dp.NoiseKind.LAPLACE,\n",
        "  metrics=metrics,\n",
        "  max_partitions_contributed=max_partitions_contributed,\n",
        "  max_contributions_per_partition=max_contributions_per_partition,\n",
        "  # the following two parameters are not useful for COUNT\n",
        "  min_value=0,\n",
        "  max_value=1)\n",
        "dp_result = peeker_engine.aggregate_sketches(sketches, params)\n",
        "budget_accountant.compute_budgets()\n",
        "dp_result = list(dp_result)\n",
        "\n",
        "for i, metric in enumerate(metrics):\n",
        "  print('drawing for metrics: ', metric)\n",
        "  draw_diff_charts(raw_result, dp_result, i)\n",
        "\n",
        "diff_metrics(raw_result, dp_result)"
      ]
    }
  ],
  "metadata": {
    "colab": {
      "collapsed_sections": [],
      "name": "Utility Analysis for PipelineDP",
      "provenance": []
    },
    "kernelspec": {
      "display_name": "Python 3",
      "name": "python3"
    },
    "language_info": {
      "name": "python"
    }
  },
  "nbformat": 4,
  "nbformat_minor": 0
}
